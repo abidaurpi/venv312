{
 "cells": [
  {
   "cell_type": "markdown",
   "id": "baaeaac9",
   "metadata": {},
   "source": [
    "# Welcome to Your Data Science Notebook!\n",
    "\n",
    "This notebook is set up to use your virtual environment (`venv312`). You can now use numpy and pandas for your data analysis tasks."
   ]
  },
  {
   "cell_type": "code",
   "execution_count": null,
   "id": "d15a9c30",
   "metadata": {},
   "outputs": [],
   "source": [
    "#pip install numpy"
   ]
  },
  {
   "cell_type": "code",
   "execution_count": null,
   "id": "3c3fd618",
   "metadata": {},
   "outputs": [],
   "source": [
    "#pip install pandas"
   ]
  },
  {
   "cell_type": "code",
   "execution_count": null,
   "id": "bb20a7d9",
   "metadata": {},
   "outputs": [],
   "source": [
    "import numpy as np\n",
    "import pandas as pd\n",
    "print(\"Numpy version:\", np.__version__)\n",
    "print(\"Pandas version:\", pd.__version__)"
   ]
  },
  {
   "cell_type": "markdown",
   "id": "310204fb",
   "metadata": {},
   "source": [
    "Read data from CSV file into a dataframe"
   ]
  },
  {
   "cell_type": "code",
   "execution_count": null,
   "id": "12deb7da",
   "metadata": {},
   "outputs": [],
   "source": [
    "df = pd.read_csv(\"sales_data_sample.csv\",encoding=\"latin-1\")\n",
    "\n",
    "print(df)\n",
    "#print(df.columns)\n",
    "#print(df.shape)"
   ]
  },
  {
   "cell_type": "markdown",
   "id": "a68c51ee",
   "metadata": {},
   "source": [
    "#Read data from excel file into a dataframe"
   ]
  },
  {
   "cell_type": "code",
   "execution_count": null,
   "id": "85daf74e",
   "metadata": {},
   "outputs": [],
   "source": [
    "df1= pd.read_excel(\"SampleSuperstore.xlsx\")\n",
    "#print(df1)\n",
    "df2= pd.read_json(\"sample_Data.json\")\n",
    "print(df2)"
   ]
  },
  {
   "cell_type": "markdown",
   "id": "9e064e8d",
   "metadata": {},
   "source": [
    "# Data read and save kora.. see save.py"
   ]
  },
  {
   "cell_type": "markdown",
   "id": "b4dcc437",
   "metadata": {},
   "source": [
    "# Shape and column attributes\n",
    "\n"
   ]
  },
  {
   "cell_type": "code",
   "execution_count": null,
   "id": "53ea5cc1",
   "metadata": {},
   "outputs": [],
   "source": [
    "import pandas as pd\n",
    "data = {\n",
    "    \"Name\" : ['Ram' , 'Shyam' , 'Ghanshyam' , 'Dhanshyam' , 'Aditi' , ' Jagdish' , 'Raj' , 'Simran'],\n",
    "    \"Age\": [28,34,22,30,29,40, 25, 32],\n",
    "    \"Salary\": [50000,60000,45000,52000,49000,70000,48000,58000],\n",
    "    \"Performance Score\": [85,90,78,92,88,95,80,89]\n",
    "}\n",
    "\n",
    "df=pd.DataFrame(data)\n",
    "print(df)\n",
    "print(f\"Shape: {df.shape}\")\n",
    "print(f\"Column Names: {df.columns}\")"
   ]
  },
  {
   "cell_type": "markdown",
   "id": "89ab936c",
   "metadata": {},
   "source": [
    "# Step no 5\n",
    "#### 1. select specific condtion\n",
    "#### 2. filter rows\n",
    "#### 3. combine multiple conditions"
   ]
  },
  {
   "cell_type": "code",
   "execution_count": null,
   "id": "eda56055",
   "metadata": {},
   "outputs": [],
   "source": [
    "import pandas as pd\n",
    "data = {\n",
    "    \"Name\" : ['Ram' , 'Shyam' , 'Ghanshyam' , 'Dhanshyam' , 'Aditi' , ' Jagdish' , 'Raj' , 'Simran'],\n",
    "    \"Age\": [28,34,22,30,29,40, 25, 32],\n",
    "    \"Salary\": [50000,60000,45000,52000,49000,70000,48000,58000],\n",
    "    \"Performance Score\": [85,90,78,92,88,95,80,89]\n",
    "}\n",
    "df= pd.DataFrame(data)\n",
    "print(\"Sample DataFrame:\")\n",
    "print(df)\n",
    "print(\"Names (Single col return series.)\")\n",
    "name=df['Name']\n",
    "print(name)\n",
    "\n",
    "#selecting multiple cols\n",
    "subset=df[[\"Name\",\"Salary\"]]\n",
    "print(\"\\nSubset with Name and Salary\")\n",
    "print(subset)\n",
    "\n",
    "\n"
   ]
  },
  {
   "cell_type": "code",
   "execution_count": null,
   "id": "e043f1e7",
   "metadata": {},
   "outputs": [],
   "source": [
    "#rows filtering\n",
    "\n",
    "import pandas as pd\n",
    "data = {\n",
    "    \"Name\" : ['Ram' , 'Shyam' , 'Ghanshyam' , 'Dhanshyam' , 'Aditi' , ' Jagdish' , 'Raj' , 'Simran'],\n",
    "    \"Age\": [28,34,22,30,29,40, 25, 32],\n",
    "    \"Salary\": [50000,60000,45000,52000,49000,70000,48000,58000],\n",
    "    \"Performance Score\": [85,90,78,92,88,95,80,89]\n",
    "}\n",
    "df= pd.DataFrame(data)\n",
    "\n",
    "#single conditions\n",
    "high_salary=df[df[\"Salary\"]>50000]\n",
    "print(\"Employees with Salary >50000\")\n",
    "print(high_salary)\n",
    "\n",
    "#multiple conditions\n",
    "filtered=df[(df[\"Age\"]>30) & (df[\"Salary\"]>50000)]\n",
    "print(\"Employee list age>30 + Salary>50000\")\n",
    "print(filtered)\n",
    "\n",
    "\n",
    "#using or conditions\n",
    "\n",
    "filtered_or= df[(df[\"Age\"]>35) | (df[\"Performance Score\"]>90)]\n",
    "print(\"Employees older than 35 or performance above 90\")\n",
    "print(filtered_or)"
   ]
  },
  {
   "cell_type": "markdown",
   "id": "5f70917b",
   "metadata": {},
   "source": [
    "# Part 2\n",
    "#### Step 6\n",
    "#### adding column"
   ]
  },
  {
   "cell_type": "code",
   "execution_count": null,
   "id": "3f844070",
   "metadata": {},
   "outputs": [],
   "source": [
    "#adding data\n",
    "import pandas as pd\n",
    "data = {\n",
    "    \"Name\" : ['Ram' , 'Shyam' , 'Ghanshyam' , 'Dhanshyam' , 'Aditi' , ' Jagdish' , 'Raj' , 'Simran'],\n",
    "    \"Age\": [28,34,22,30,29,40, 25, 32],\n",
    "    \"Salary\": [50000,60000,45000,52000,49000,70000,48000,58000],\n",
    "    \"Performance Score\": [85,90,78,92,88,95,80,89]\n",
    "}\n",
    "df= pd.DataFrame(data)\n",
    "\n",
    "#square brackets  df[\"Column Name\"]=some data\n",
    "print(df)\n",
    "df[\"Bonus\"]=df[\"Salary\"] * .1\n",
    "print(\"Increment Salary:\")\n",
    "print(df)\n",
    "\n",
    "\n",
    "\n"
   ]
  },
  {
   "cell_type": "markdown",
   "id": "f81e21c8",
   "metadata": {},
   "source": [
    "# using insert method diye new column add kora, at specific position or index\n"
   ]
  },
  {
   "cell_type": "code",
   "execution_count": null,
   "id": "25e9ed4e",
   "metadata": {},
   "outputs": [],
   "source": [
    "import pandas as pd\n",
    "data = {\n",
    "    \"Name\" : ['Ram' , 'Shyam' , 'Ghanshyam' , 'Dhanshyam' , 'Aditi' , ' Jagdish' , 'Raj' , 'Simran'],\n",
    "    \"Age\": [28,34,22,30,29,40, 25, 32],\n",
    "    \"Salary\": [50000,60000,45000,52000,49000,70000,48000,58000],\n",
    "    \"Performance Score\": [85,90,78,92,88,95,80,89]\n",
    "}\n",
    "df= pd.DataFrame(data)\n",
    "print(df)\n",
    "\n",
    "#df.insert(loc, \"Column_Name\",[some_data])\n",
    "df.insert(0, \"Employee ID\",[10,20,30,40,50,60,70,80])\n",
    "print(df)"
   ]
  },
  {
   "cell_type": "markdown",
   "id": "876fd9d7",
   "metadata": {},
   "source": [
    "# Updating Values"
   ]
  },
  {
   "cell_type": "code",
   "execution_count": null,
   "id": "16bdbd86",
   "metadata": {},
   "outputs": [],
   "source": [
    "#.loc[] pandas er ekta method jeta je kono specific cell e \n",
    "# access kora jabe and otake update kora jabe\n",
    "\n",
    "#df.loc[row_index, \"Column_name\"]= new_value\n",
    "\n",
    "import pandas as pd\n",
    "data = {\n",
    "    \"Name\" : ['Ram' , 'Shyam' , 'Ghanshyam' , 'Dhanshyam' , 'Aditi' , ' Jagdish' , 'Raj' , 'Simran'],\n",
    "    \"Age\": [28,34,22,30,29,40, 25, 32],\n",
    "    \"Salary\": [50000,60000,45000,52000,49000,70000,48000,58000],\n",
    "    \"Performance Score\": [85,90,78,92,88,95,80,89]\n",
    "}\n",
    "df= pd.DataFrame(data)\n",
    "print(df)\n",
    "\n",
    "df.loc[0,\"Salary\"]=55000\n",
    "print(df)"
   ]
  },
  {
   "cell_type": "markdown",
   "id": "14ad55ab",
   "metadata": {},
   "source": [
    "# Updating Values using condtion"
   ]
  },
  {
   "cell_type": "code",
   "execution_count": null,
   "id": "9043825b",
   "metadata": {},
   "outputs": [],
   "source": [
    "import pandas as pd\n",
    "data = {\n",
    "    \"Name\" : ['Ram' , 'Shyam' , 'Ghanshyam' , 'Dhanshyam' , 'Aditi' , ' Jagdish' , 'Raj' , 'Simran'],\n",
    "    \"Age\": [28,34,22,30,29,40, 25, 32],\n",
    "    \"Salary\": [50000,60000,45000,52000,49000,70000,48000,58000],\n",
    "    \"Performance Score\": [85,90,78,92,88,95,80,89]\n",
    "}\n",
    "df= pd.DataFrame(data)\n",
    "print(df)\n",
    "\n",
    "#increasing salary by 5%\n",
    "df[\"Salary\"]=df[\"Salary\"]*1.05\n",
    "print(df)"
   ]
  },
  {
   "cell_type": "markdown",
   "id": "42929064",
   "metadata": {},
   "source": [
    "# Removing Columns"
   ]
  },
  {
   "cell_type": "code",
   "execution_count": null,
   "id": "1aab0617",
   "metadata": {},
   "outputs": [],
   "source": [
    "import pandas as pd\n",
    "data = {\n",
    "    \"Name\" : ['Ram' , 'Shyam' , 'Ghanshyam' , 'Dhanshyam' , 'Aditi' , ' Jagdish' , 'Raj' , 'Simran'],\n",
    "    \"Age\": [28,34,22,30,29,40, 25, 32],\n",
    "    \"Salary\": [50000,60000,45000,52000,49000,70000,48000,58000],\n",
    "    \"Performance Score\": [85,90,78,92,88,95,80,89]\n",
    "}\n",
    "df= pd.DataFrame(data)\n",
    "print(df)\n",
    "\n",
    "print(\"\\n After removing a column:\")\n",
    "df.drop(columns=[\"Performance Score\"],inplace=True)\n",
    "print(df)\n",
    "\n",
    "#multiple column removing\n",
    "df1= pd.DataFrame(data)\n",
    "df1.drop(columns=[\"Performance Score\",\"Age\"],inplace=True)\n",
    "print(\"\\n After multiple deleting columns:\")\n",
    "print(df1)\n"
   ]
  },
  {
   "cell_type": "markdown",
   "id": "5eba3cae",
   "metadata": {},
   "source": [
    "# Missing data handling"
   ]
  },
  {
   "cell_type": "code",
   "execution_count": null,
   "id": "674c5918",
   "metadata": {},
   "outputs": [],
   "source": [
    "import pandas as pd\n",
    "data = {\n",
    "    \"Name\" : ['Ram' , None , 'Ghanshyam' , 'Dhanshyam' , 'Aditi' , ' Jagdish' , 'Raj' , 'Simran'],\n",
    "    \"Age\": [28,None,22,30,29,40, 25, 32],\n",
    "    \"Salary\": [50000,None,45000,52000,49000,70000,48000,58000],\n",
    "    \"Performance Score\": [85,None,78,92,88,95,80,89]\n",
    "}\n",
    "df= pd.DataFrame(data)\n",
    "print(df)\n",
    "\n",
    "print(\"\\n\")\n",
    "print(df.isnull())\n",
    "print(df.isnull().sum())\n"
   ]
  },
  {
   "cell_type": "markdown",
   "id": "c1f4f762",
   "metadata": {},
   "source": [
    "## Missing value ke remove kora"
   ]
  },
  {
   "cell_type": "code",
   "execution_count": null,
   "id": "86980303",
   "metadata": {},
   "outputs": [],
   "source": [
    "import pandas as pd\n",
    "data = {\n",
    "    \"Name\" : ['Ram' , None , 'Ghanshyam' , 'Dhanshyam' , 'Aditi' , ' Jagdish' , 'Raj' , 'Simran'],\n",
    "    \"Age\": [28,None,22,30,29,40, 25, 32],\n",
    "    \"Salary\": [50000,None,45000,52000,49000,70000,48000,58000],\n",
    "    \"Performance Score\": [85,None,78,92,88,95,80,89]\n",
    "}\n",
    "df= pd.DataFrame(data)\n",
    "print(df)\n",
    "\n",
    "print(\"\\n\")\n",
    "df.dropna(inplace=True)\n",
    "print(df)"
   ]
  },
  {
   "cell_type": "markdown",
   "id": "7589de30",
   "metadata": {},
   "source": [
    "## Fill method"
   ]
  },
  {
   "cell_type": "code",
   "execution_count": null,
   "id": "57ed7b55",
   "metadata": {},
   "outputs": [],
   "source": [
    "import pandas as pd\n",
    "data = {\n",
    "    \"Name\" : ['Ram' , None , 'Ghanshyam' , 'Dhanshyam' , 'Aditi' , ' Jagdish' , 'Raj' , 'Simran'],\n",
    "    \"Age\": [28,None,22,30,29,40, 25, 32],\n",
    "    \"Salary\": [50000,None,45000,52000,49000,70000,48000,58000],\n",
    "    \"Performance Score\": [85,None,78,92,88,95,80,89]\n",
    "}\n",
    "df= pd.DataFrame(data)\n",
    "print(df)\n",
    "\n",
    "df.fillna(0,inplace=True )\n",
    "print(\"\\n\")\n",
    "print(df)\n",
    "\n",
    "\n",
    "df1= pd.DataFrame(data)\n",
    "df1[\"Age\"].fillna(df1[\"Age\"].mean(),inplace=True)\n",
    "df1[\"Salary\"].fillna(df1[\"Salary\"].mean(),inplace=True)\n",
    "df1[\"Performance Score\"].fillna(df1[\"Performance Score\"].mean(),inplace=True)\n",
    "print(\"\\n\")\n",
    "print(\"replacing missing value with calculated passes:\")\n",
    "print(df1)\n",
    "\n"
   ]
  },
  {
   "cell_type": "markdown",
   "id": "97718dc3",
   "metadata": {},
   "source": [
    "# Interpolation"
   ]
  },
  {
   "cell_type": "code",
   "execution_count": 44,
   "id": "95a4b6d2",
   "metadata": {},
   "outputs": [
    {
     "name": "stdout",
     "output_type": "stream",
     "text": [
      "Before Interpolation\n",
      "   Time  Value\n",
      "0     1   10.0\n",
      "1     2    NaN\n",
      "2     3   30.0\n",
      "3     4    NaN\n",
      "4     5   50.0\n",
      "\n",
      "After interpolation\n",
      "   Time  Value\n",
      "0     1   10.0\n",
      "1     2   20.0\n",
      "2     3   30.0\n",
      "3     4   40.0\n",
      "4     5   50.0\n"
     ]
    }
   ],
   "source": [
    "import pandas as pd\n",
    "data = {\n",
    "    \"Time\":[1,2,3,4,5],\n",
    "    \"Value\":[10,None,30,None,50]\n",
    "}\n",
    "df=pd.DataFrame(data)\n",
    "print(\"Before Interpolation\")\n",
    "print(df)\n",
    "\n",
    "df[\"Value\"]=df[\"Value\"].interpolate(method=\"linear\")\n",
    "print(\"\\nAfter interpolation\")\n",
    "print(df)\n"
   ]
  },
  {
   "cell_type": "markdown",
   "id": "26a8883c",
   "metadata": {},
   "source": [
    "# Sorting and Aggregation"
   ]
  },
  {
   "cell_type": "markdown",
   "id": "bd69843c",
   "metadata": {},
   "source": [
    "#### Single col sorting"
   ]
  },
  {
   "cell_type": "code",
   "execution_count": 47,
   "id": "0eba3373",
   "metadata": {},
   "outputs": [
    {
     "name": "stdout",
     "output_type": "stream",
     "text": [
      "Sorted Age by Descending\n",
      "    Name  Age  Salary\n",
      "1  Varun   34   20000\n",
      "2  Karun   22   30000\n",
      "0   Arun   18   10000\n"
     ]
    }
   ],
   "source": [
    "import pandas as pd\n",
    "\n",
    "data= {\n",
    "    \"Name\":[\"Arun\",\"Varun\",\"Karun\"],\n",
    "    \"Age\":[18,34,22],\n",
    "    \"Salary\":[10000,20000,30000]\n",
    "}\n",
    "df=pd.DataFrame(data)\n",
    "df.sort_values(by=\"Age\",ascending=False,inplace=True)\n",
    "print(\"Sorted Age by Descending\")\n",
    "print(df)\n",
    "\n"
   ]
  },
  {
   "cell_type": "markdown",
   "id": "33d62ef2",
   "metadata": {},
   "source": [
    "#### Multiple col sorting"
   ]
  },
  {
   "cell_type": "code",
   "execution_count": 48,
   "id": "2251997f",
   "metadata": {},
   "outputs": [
    {
     "name": "stdout",
     "output_type": "stream",
     "text": [
      "Sorted Age by Descending\n",
      "    Name  Age  Salary\n",
      "0   Arun   18   10000\n",
      "2  Karun   22   30000\n",
      "1  Varun   34   20000\n"
     ]
    }
   ],
   "source": [
    "import pandas as pd\n",
    "\n",
    "data= {\n",
    "    \"Name\":[\"Arun\",\"Varun\",\"Karun\"],\n",
    "    \"Age\":[18,34,22],\n",
    "    \"Salary\":[10000,20000,30000]\n",
    "}\n",
    "df=pd.DataFrame(data)\n",
    "df.sort_values(by=[\"Age\",\"Salary\"],ascending=[True,False],inplace=True)\n",
    "print(\"Sorted Age by Descending\")\n",
    "print(df)\n"
   ]
  }
 ],
 "metadata": {
  "kernelspec": {
   "display_name": "Python 3",
   "language": "python",
   "name": "python3"
  },
  "language_info": {
   "codemirror_mode": {
    "name": "ipython",
    "version": 3
   },
   "file_extension": ".py",
   "mimetype": "text/x-python",
   "name": "python",
   "nbconvert_exporter": "python",
   "pygments_lexer": "ipython3",
   "version": "3.12.1"
  }
 },
 "nbformat": 4,
 "nbformat_minor": 5
}
